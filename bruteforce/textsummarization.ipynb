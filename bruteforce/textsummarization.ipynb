{
 "cells": [
  {
   "cell_type": "markdown",
   "metadata": {},
   "source": [
    "# Import all necessary libraries"
   ]
  },
  {
   "cell_type": "code",
   "execution_count": 75,
   "metadata": {
    "colab": {},
    "colab_type": "code",
    "id": "kQ3zpJChhDDZ"
   },
   "outputs": [],
   "source": [
    "from nltk.corpus import stopwords\n",
    "from nltk.cluster.util import cosine_distance\n",
    "import numpy as np\n",
    "import networkx as nx\n",
    "import pandas as pd\n",
    "from nltk.tokenize import word_tokenize\n",
    "import re"
   ]
  },
  {
   "cell_type": "markdown",
   "metadata": {},
   "source": [
    "# Load data"
   ]
  },
  {
   "cell_type": "code",
   "execution_count": 2,
   "metadata": {
    "colab": {
     "base_uri": "https://localhost:8080/",
     "height": 419
    },
    "colab_type": "code",
    "executionInfo": {
     "elapsed": 807,
     "status": "error",
     "timestamp": 1558185947167,
     "user": {
      "displayName": "Victoria Yuzkiv",
      "photoUrl": "https://lh4.googleusercontent.com/-cbWYalcDGbg/AAAAAAAAAAI/AAAAAAAAAHk/9cEmm4HBodQ/s64/photo.jpg",
      "userId": "16419826773739117618"
     },
     "user_tz": -180
    },
    "id": "RIrChv7ny1je",
    "outputId": "c8bd9c10-e227-44f2-dc4e-14df5a2ac0ac"
   },
   "outputs": [
    {
     "data": {
      "text/html": [
       "<div>\n",
       "<style scoped>\n",
       "    .dataframe tbody tr th:only-of-type {\n",
       "        vertical-align: middle;\n",
       "    }\n",
       "\n",
       "    .dataframe tbody tr th {\n",
       "        vertical-align: top;\n",
       "    }\n",
       "\n",
       "    .dataframe thead th {\n",
       "        text-align: right;\n",
       "    }\n",
       "</style>\n",
       "<table border=\"1\" class=\"dataframe\">\n",
       "  <thead>\n",
       "    <tr style=\"text-align: right;\">\n",
       "      <th></th>\n",
       "      <th>Unnamed: 0</th>\n",
       "      <th>tags</th>\n",
       "      <th>text</th>\n",
       "      <th>datetime</th>\n",
       "    </tr>\n",
       "  </thead>\n",
       "  <tbody>\n",
       "    <tr>\n",
       "      <th>0</th>\n",
       "      <td>0</td>\n",
       "      <td>Новини Росії;Водний транспорт;Аварії та ДТП;На...</td>\n",
       "      <td>Затонув плавучий док ПД-50 Читайте також:  За ...</td>\n",
       "      <td>2018-10-30 10:15</td>\n",
       "    </tr>\n",
       "    <tr>\n",
       "      <th>1</th>\n",
       "      <td>1</td>\n",
       "      <td>авіація;Жертви;Надзвичайні ситуації;Катастрофа...</td>\n",
       "      <td>178 дорослих, троє дітей, шестеро членів екіпа...</td>\n",
       "      <td>2018-10-30 10:15</td>\n",
       "    </tr>\n",
       "    <tr>\n",
       "      <th>2</th>\n",
       "      <td>2</td>\n",
       "      <td>Новини України;Землетрус;Новини Одеси;Румунія;...</td>\n",
       "      <td>Як  Читайте також:  За попередніми даними, пос...</td>\n",
       "      <td>2018-10-28 09:58</td>\n",
       "    </tr>\n",
       "    <tr>\n",
       "      <th>3</th>\n",
       "      <td>3</td>\n",
       "      <td>Новини України;авіація;Новини Одеси;Надзвичайн...</td>\n",
       "      <td>Раніше 24 канал повідомляв, що увечері 27 жовт...</td>\n",
       "      <td>2018-10-27 22:47</td>\n",
       "    </tr>\n",
       "    <tr>\n",
       "      <th>4</th>\n",
       "      <td>4</td>\n",
       "      <td>Новини України;авіація;Новини Одеси;Надзвичайн...</td>\n",
       "      <td>Як  Читайте також: \"Всіх пасажирів евакуйовано...</td>\n",
       "      <td>2018-10-27 19:53</td>\n",
       "    </tr>\n",
       "  </tbody>\n",
       "</table>\n",
       "</div>"
      ],
      "text/plain": [
       "   Unnamed: 0                                               tags  \\\n",
       "0           0  Новини Росії;Водний транспорт;Аварії та ДТП;На...   \n",
       "1           1  авіація;Жертви;Надзвичайні ситуації;Катастрофа...   \n",
       "2           2  Новини України;Землетрус;Новини Одеси;Румунія;...   \n",
       "3           3  Новини України;авіація;Новини Одеси;Надзвичайн...   \n",
       "4           4  Новини України;авіація;Новини Одеси;Надзвичайн...   \n",
       "\n",
       "                                                text          datetime  \n",
       "0  Затонув плавучий док ПД-50 Читайте також:  За ...  2018-10-30 10:15  \n",
       "1  178 дорослих, троє дітей, шестеро членів екіпа...  2018-10-30 10:15  \n",
       "2  Як  Читайте також:  За попередніми даними, пос...  2018-10-28 09:58  \n",
       "3  Раніше 24 канал повідомляв, що увечері 27 жовт...  2018-10-27 22:47  \n",
       "4  Як  Читайте також: \"Всіх пасажирів евакуйовано...  2018-10-27 19:53  "
      ]
     },
     "execution_count": 2,
     "metadata": {},
     "output_type": "execute_result"
    }
   ],
   "source": [
    "df = pd.read_csv(\"../data/allnews.csv\", delimiter=',')\n",
    "df.head()"
   ]
  },
  {
   "cell_type": "code",
   "execution_count": 8,
   "metadata": {},
   "outputs": [
    {
     "data": {
      "text/plain": [
       "'Затонув плавучий док ПД-50 Читайте також:\\xa0 За даними місцевого видання \"СеверПост\", під час аварії впало два баштових крани, один з яких завалився на авіаносець. Внаслідок аварії є постраждалі і можуть бути жертви. Четверо постраждалих, троє доставлені в медсанчастину, один –\\xa0в міську лікарню, В одного з постраждалих поранення черевної порожнини і переохолодження, троє у стані середньої тяжкості – вони також зазнали переохолоджень. Водночас джерела видання повідомляють, що постраждалих може бути набагато більше.   Очевидці поширюють у мережі відео з місця надзвичайної ситуації. Дивіться відео про аварію під час ремонту авіаносця \"Адмірал Кузнєцов\" у Росії: Чим відомий\\xa0\" У Мурманській області Росії під час ремонту і модернізації єдиного російського авіносця \"Адмірал Кузнєцов\" сталась надзвичайна ситуація.'"
      ]
     },
     "execution_count": 8,
     "metadata": {},
     "output_type": "execute_result"
    }
   ],
   "source": [
    "article_example = df['text'][0]\n",
    "article_example"
   ]
  },
  {
   "cell_type": "markdown",
   "metadata": {},
   "source": [
    "# Generate clean sentences"
   ]
  },
  {
   "cell_type": "markdown",
   "metadata": {},
   "source": [
    "1. Remove '\\xa0' and 'Читайте також:'\n",
    "2. Split sentences\n",
    "3. Remove all non-numeric values\n",
    "4. Tokenize sentences"
   ]
  },
  {
   "cell_type": "code",
   "execution_count": 76,
   "metadata": {
    "colab": {},
    "colab_type": "code",
    "id": "8LMZ-54Lh1bv"
   },
   "outputs": [],
   "source": [
    "def read_article(filename):\n",
    "    \"\"\"\n",
    "    string -> list of strings\n",
    "    \"\"\"\n",
    "    \n",
    "    file = filename.replace(u'\\xa0', u' ')\n",
    "    file = file.replace('Читайте також:', '.')\n",
    "    article = file.split(\". \")\n",
    "    \n",
    "    sentences = []\n",
    "    pattern = re.compile('[\\W_]+')\n",
    "    for sentence in article:\n",
    "        sentences.append(word_tokenize(pattern.sub(' ', sentence)))\n",
    "    return sentences"
   ]
  },
  {
   "cell_type": "code",
   "execution_count": 77,
   "metadata": {},
   "outputs": [
    {
     "name": "stdout",
     "output_type": "stream",
     "text": [
      "[['Затонув', 'плавучий', 'док', 'ПД', '50'], ['За', 'даними', 'місцевого', 'видання', 'СеверПост', 'під', 'час', 'аварії', 'впало', 'два', 'баштових', 'крани', 'один', 'з', 'яких', 'завалився', 'на', 'авіаносець'], ['Внаслідок', 'аварії', 'є', 'постраждалі', 'і', 'можуть', 'бути', 'жертви'], ['Четверо', 'постраждалих', 'троє', 'доставлені', 'в', 'медсанчастину', 'один', 'в', 'міську', 'лікарню', 'В', 'одного', 'з', 'постраждалих', 'поранення', 'черевної', 'порожнини', 'і', 'переохолодження', 'троє', 'у', 'стані', 'середньої', 'тяжкості', 'вони', 'також', 'зазнали', 'переохолоджень'], ['Водночас', 'джерела', 'видання', 'повідомляють', 'що', 'постраждалих', 'може', 'бути', 'набагато', 'більше'], ['Очевидці', 'поширюють', 'у', 'мережі', 'відео', 'з', 'місця', 'надзвичайної', 'ситуації'], ['Дивіться', 'відео', 'про', 'аварію', 'під', 'час', 'ремонту', 'авіаносця', 'Адмірал', 'Кузнєцов', 'у', 'Росії', 'Чим', 'відомий', 'У', 'Мурманській', 'області', 'Росії', 'під', 'час', 'ремонту', 'і', 'модернізації', 'єдиного', 'російського', 'авіносця', 'Адмірал', 'Кузнєцов', 'сталась', 'надзвичайна', 'ситуація']]\n"
     ]
    }
   ],
   "source": [
    "print(read_article(article_example))"
   ]
  },
  {
   "cell_type": "markdown",
   "metadata": {},
   "source": [
    "# Find similarity matrix between sentences"
   ]
  },
  {
   "cell_type": "code",
   "execution_count": 92,
   "metadata": {
    "colab": {},
    "colab_type": "code",
    "id": "351Cjok1jk7_"
   },
   "outputs": [],
   "source": [
    "def sentence_similarity(sent1, sent2, stopwords=None):\n",
    "    if stopwords is None:\n",
    "        stopwords = []\n",
    " \n",
    "    sent1 = [w.lower() for w in sent1]\n",
    "    sent2 = [w.lower() for w in sent2]\n",
    " \n",
    "    all_words = list(set(sent1 + sent2))\n",
    " \n",
    "    vector1 = [0] * len(all_words)\n",
    "    vector2 = [0] * len(all_words)\n",
    " \n",
    "    # build the vector for the first sentence\n",
    "    for w in sent1:\n",
    "        if w in stopwords:\n",
    "            continue\n",
    "        vector1[all_words.index(w)] += 1\n",
    " \n",
    "    # build the vector for the second sentence\n",
    "    for w in sent2:\n",
    "        if w in stopwords:\n",
    "            continue\n",
    "        vector2[all_words.index(w)] += 1\n",
    " \n",
    "    return 1 - cosine_distance(vector1, vector2)"
   ]
  },
  {
   "cell_type": "code",
   "execution_count": 93,
   "metadata": {
    "colab": {},
    "colab_type": "code",
    "id": "ac1woo0ZjOUL"
   },
   "outputs": [],
   "source": [
    "def build_similarity_matrix(sentences, stop_words):\n",
    "    # Create an empty similarity matrix\n",
    "    similarity_matrix = np.zeros((len(sentences), len(sentences)))\n",
    " \n",
    "    for idx1 in range(len(sentences)):\n",
    "        for idx2 in range(len(sentences)):\n",
    "            if idx1 == idx2: #ignore if both are same sentences\n",
    "                continue \n",
    "            similarity_matrix[idx1][idx2] = sentence_similarity(sentences[idx1], sentences[idx2], stop_words)\n",
    "    return similarity_matrix"
   ]
  },
  {
   "cell_type": "markdown",
   "metadata": {},
   "source": [
    "# Generate summary"
   ]
  },
  {
   "cell_type": "code",
   "execution_count": 106,
   "metadata": {
    "colab": {},
    "colab_type": "code",
    "id": "M-HrCQpzjW8O"
   },
   "outputs": [],
   "source": [
    "def generate_summary(filename, top_n=5):\n",
    "    stop_words = stopwords.words('english')\n",
    "    summarize_text = []\n",
    "    # Step 1 - Read text and tokenize\n",
    "    sentences =  read_article(filename)\n",
    "    # Step 2 - Generate Similary Martix across sentences\n",
    "    sentence_similarity_martix = build_similarity_matrix(sentences, stop_words)\n",
    "    # Step 3 - Rank sentences in similarity martix\n",
    "    sentence_similarity_graph = nx.from_numpy_array(sentence_similarity_martix)\n",
    "    scores = nx.pagerank(sentence_similarity_graph)\n",
    "    # Step 4 - Sort the rank and pick top sentences\n",
    "    ranked_sentence = sorted(((scores[i],s) for i,s in enumerate(sentences)), reverse=True)    \n",
    "    print(\"Indexes of top ranked_sentence order are \", ranked_sentence)\n",
    "    for i in range(top_n):\n",
    "        summarize_text.append(\" \".join(ranked_sentence[i][1]))\n",
    "    # Step 5 - Offcourse, output the summarize texr\n",
    "    print(\"\\nSummarize Text: \\n\", \". \".join(summarize_text))"
   ]
  },
  {
   "cell_type": "code",
   "execution_count": 108,
   "metadata": {
    "colab": {},
    "colab_type": "code",
    "id": "uuWG2GdakJSo"
   },
   "outputs": [
    {
     "name": "stdout",
     "output_type": "stream",
     "text": [
      "Indexes of top ranked_sentence order are  [(0.19506544639257384, ['За', 'даними', 'місцевого', 'видання', 'СеверПост', 'під', 'час', 'аварії', 'впало', 'два', 'баштових', 'крани', 'один', 'з', 'яких', 'завалився', 'на', 'авіаносець']), (0.1817623792132247, ['Четверо', 'постраждалих', 'троє', 'доставлені', 'в', 'медсанчастину', 'один', 'в', 'міську', 'лікарню', 'В', 'одного', 'з', 'постраждалих', 'поранення', 'черевної', 'порожнини', 'і', 'переохолодження', 'троє', 'у', 'стані', 'середньої', 'тяжкості', 'вони', 'також', 'зазнали', 'переохолоджень']), (0.17885157127722226, ['Дивіться', 'відео', 'про', 'аварію', 'під', 'час', 'ремонту', 'авіаносця', 'Адмірал', 'Кузнєцов', 'у', 'Росії', 'Чим', 'відомий', 'У', 'Мурманській', 'області', 'Росії', 'під', 'час', 'ремонту', 'і', 'модернізації', 'єдиного', 'російського', 'авіносця', 'Адмірал', 'Кузнєцов', 'сталась', 'надзвичайна', 'ситуація']), (0.1478004356585752, ['Очевидці', 'поширюють', 'у', 'мережі', 'відео', 'з', 'місця', 'надзвичайної', 'ситуації']), (0.13915410757077493, ['Внаслідок', 'аварії', 'є', 'постраждалі', 'і', 'можуть', 'бути', 'жертви']), (0.13297581597516417, ['Водночас', 'джерела', 'видання', 'повідомляють', 'що', 'постраждалих', 'може', 'бути', 'набагато', 'більше']), (0.024390243912465005, ['Затонув', 'плавучий', 'док', 'ПД', '50'])]\n",
      "\n",
      "Summarize Text: \n",
      " За даними місцевого видання СеверПост під час аварії впало два баштових крани один з яких завалився на авіаносець. Четверо постраждалих троє доставлені в медсанчастину один в міську лікарню В одного з постраждалих поранення черевної порожнини і переохолодження троє у стані середньої тяжкості вони також зазнали переохолоджень\n"
     ]
    }
   ],
   "source": [
    "generate_summary(article_example, 2)"
   ]
  },
  {
   "cell_type": "code",
   "execution_count": null,
   "metadata": {},
   "outputs": [],
   "source": []
  }
 ],
 "metadata": {
  "colab": {
   "collapsed_sections": [],
   "name": "textsummarization.ipynb",
   "provenance": [],
   "version": "0.3.2"
  },
  "kernelspec": {
   "display_name": "Python 3",
   "language": "python",
   "name": "python3"
  },
  "language_info": {
   "codemirror_mode": {
    "name": "ipython",
    "version": 3
   },
   "file_extension": ".py",
   "mimetype": "text/x-python",
   "name": "python",
   "nbconvert_exporter": "python",
   "pygments_lexer": "ipython3",
   "version": "3.6.7"
  }
 },
 "nbformat": 4,
 "nbformat_minor": 1
}
